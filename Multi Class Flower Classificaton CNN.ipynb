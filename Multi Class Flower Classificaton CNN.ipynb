{
 "cells": [
  {
   "cell_type": "markdown",
   "metadata": {},
   "source": [
    "# Assignment 3"
   ]
  },
  {
   "cell_type": "markdown",
   "metadata": {},
   "source": [
    "## Authors: Divya Shankar, Sabrina Sok, Snigdha Jain"
   ]
  },
  {
   "cell_type": "markdown",
   "metadata": {},
   "source": [
    "### Question 3: \n",
    "#### Download the MIT Flowers dataset from: https://goo.gl/EgJVXZ.\n",
    "1. Use the procedure describe in Lecture 9 (pages 21-27), to feed this data into a ConvNet that classifies the images into the various flower types. You may start with the Convnet from Section 5.1 of Chollet (that I uploaded into Camino) for this exercise, and modify it as necessary.\n",
    "2. Use Transfer Learning with the MobileNet model (available in Keras) to speed up the training process. Use Method 1 (see page 54 of Lecture 12) to do the Transfer Learning. Freeze all the layers in MobileNet, except for the last (logit) layer."
   ]
  },
  {
   "cell_type": "markdown",
   "metadata": {},
   "source": [
    "## Copying images to training, validation and test directories"
   ]
  },
  {
   "cell_type": "code",
   "execution_count": 1,
   "metadata": {},
   "outputs": [],
   "source": [
    "import os, shutil"
   ]
  },
  {
   "cell_type": "markdown",
   "metadata": {},
   "source": [
    "<b>Path to directory with original data</b>: Specify the path to where you have the flower photos folder"
   ]
  },
  {
   "cell_type": "code",
   "execution_count": 3,
   "metadata": {},
   "outputs": [],
   "source": [
    "original_dataset_dir = '/Users/sabrinasok/Dropbox/SCU/Fall_2019/Deep_Learning/flower_photos'"
   ]
  },
  {
   "cell_type": "markdown",
   "metadata": {},
   "source": [
    "<b>Directory to store the smaller dataset</b>: Specify the path where you want to create the new folders with train, validation and test data"
   ]
  },
  {
   "cell_type": "code",
   "execution_count": 4,
   "metadata": {},
   "outputs": [],
   "source": [
    "base_dir = '/Users/sabrinasok/Dropbox/SCU/Fall_2019/Deep_Learning/flower_photos_small'"
   ]
  },
  {
   "cell_type": "markdown",
   "metadata": {},
   "source": [
    "<b>Creating Directories for training, validation and test splits inside flower_photos_small</b>"
   ]
  },
  {
   "cell_type": "code",
   "execution_count": 6,
   "metadata": {},
   "outputs": [],
   "source": [
    "train_dir = os.path.join(base_dir, 'train')\n",
    "validation_dir = os.path.join(base_dir, 'validation')\n",
    "test_dir = os.path.join(base_dir,'test')"
   ]
  },
  {
   "cell_type": "markdown",
   "metadata": {},
   "source": [
    "<b>Creating training directories for Daisy, dandelion, roses, sunflowers & tulips pictures in flower_photos_small</b>"
   ]
  },
  {
   "cell_type": "code",
   "execution_count": 7,
   "metadata": {},
   "outputs": [],
   "source": [
    "train_daisy_dir = os.path.join(train_dir, 'daisy')\n",
    "\n",
    "train_dandelion_dir = os.path.join(train_dir, 'dandelion')\n",
    "\n",
    "train_roses_dir = os.path.join(train_dir, 'roses')\n",
    "\n",
    "train_sunflowers_dir = os.path.join(train_dir, 'sunflowers')\n",
    "\n",
    "train_tulips_dir = os.path.join(train_dir, 'tulips')"
   ]
  },
  {
   "cell_type": "markdown",
   "metadata": {},
   "source": [
    "<b>Creating validation directories for Daisy, dandelion, roses, sunflowers & tulips pictures in flower_photos_small</b>"
   ]
  },
  {
   "cell_type": "code",
   "execution_count": 8,
   "metadata": {},
   "outputs": [],
   "source": [
    "validation_daisy_dir = os.path.join(validation_dir, 'daisy')\n",
    "\n",
    "validation_dandelion_dir = os.path.join(validation_dir, 'dandelion')\n",
    "\n",
    "validation_roses_dir = os.path.join(validation_dir, 'roses')\n",
    "\n",
    "validation_sunflowers_dir = os.path.join(validation_dir, 'sunflowers')\n",
    "\n",
    "validation_tulips_dir = os.path.join(validation_dir, 'tulips')"
   ]
  },
  {
   "cell_type": "markdown",
   "metadata": {},
   "source": [
    "<b>Creating test directories for Daisy, dandelion, roses, sunflowers & tulips pictures in flower_photos_small</b>"
   ]
  },
  {
   "cell_type": "code",
   "execution_count": 9,
   "metadata": {},
   "outputs": [],
   "source": [
    "test_daisy_dir = os.path.join(test_dir, 'daisy')\n",
    "\n",
    "test_dandelion_dir = os.path.join(test_dir, 'dandelion')\n",
    "\n",
    "test_roses_dir = os.path.join(test_dir, 'roses')\n",
    "\n",
    "test_sunflowers_dir = os.path.join(test_dir, 'sunflowers')\n",
    "\n",
    "test_tulips_dir = os.path.join(test_dir, 'tulips')"
   ]
  },
  {
   "cell_type": "markdown",
   "metadata": {},
   "source": [
    "<b>Calculating train ,validation and test set size</b>: Following 60%, 20% & 20% rule. \n",
    "\n",
    "1. Daisy: 634 (train: 382, test: 126, validation: 126)\n",
    "2. Dandelion: 899 (train: 541, test: 179, validation: 179)\n",
    "3. Roses: 642 (train:386, test: 128, validation: 128)\n",
    "4. Sunflowers: 700 (train: 420, test: 140, validation: 140)\n",
    "5. Tulips: 800 (train: 480, test: 160, validation: 160)"
   ]
  },
  {
   "cell_type": "markdown",
   "metadata": {},
   "source": [
    "<b> Copy the first 382 images in train, next 126 for validation and next 126 for test for Daisy flowers in flower_photos_small <b>"
   ]
  },
  {
   "cell_type": "code",
   "execution_count": 8,
   "metadata": {},
   "outputs": [],
   "source": [
    "fnames = ['Daisy.{}.jpg'.format(i) for i in range(382)]\n",
    "for fname in fnames:\n",
    "    src = os.path.join(original_dataset_dir, fname)\n",
    "    dst = os.path.join(train_daisy_dir, fname)\n",
    "    shutil.copyfile(src,dst)"
   ]
  },
  {
   "cell_type": "code",
   "execution_count": 9,
   "metadata": {},
   "outputs": [],
   "source": [
    "fnames = ['Daisy.{}.jpg'.format(i) for i in range(382, 508)]\n",
    "for fname in fnames:\n",
    "    src = os.path.join(original_dataset_dir, fname)\n",
    "    dst = os.path.join(validation_daisy_dir, fname)\n",
    "    shutil.copyfile(src,dst)"
   ]
  },
  {
   "cell_type": "code",
   "execution_count": 10,
   "metadata": {},
   "outputs": [],
   "source": [
    "fnames = ['Daisy.{}.jpg'.format(i) for i in range(508, 633)]\n",
    "for fname in fnames:\n",
    "    src = os.path.join(original_dataset_dir, fname)\n",
    "    dst = os.path.join(test_daisy_dir, fname)\n",
    "    shutil.copyfile(src,dst)"
   ]
  },
  {
   "cell_type": "markdown",
   "metadata": {},
   "source": [
    "<b><b> Copy the first 541 images in train, next 179 for validation and next 179 for test for Dandelion flowers in flower_photos_small <b></b>"
   ]
  },
  {
   "cell_type": "code",
   "execution_count": 11,
   "metadata": {},
   "outputs": [],
   "source": [
    "fnames = ['Dandelion.{}.jpg'.format(i) for i in range(541)]\n",
    "for fname in fnames:\n",
    "    src = os.path.join(original_dataset_dir, fname)\n",
    "    dst = os.path.join(train_dandelion_dir, fname)\n",
    "    shutil.copyfile(src,dst)"
   ]
  },
  {
   "cell_type": "code",
   "execution_count": 12,
   "metadata": {},
   "outputs": [],
   "source": [
    "fnames = ['Dandelion.{}.jpg'.format(i) for i in range(541, 720)]\n",
    "for fname in fnames:\n",
    "    src = os.path.join(original_dataset_dir, fname)\n",
    "    dst = os.path.join(validation_dandelion_dir, fname)\n",
    "    shutil.copyfile(src,dst)"
   ]
  },
  {
   "cell_type": "code",
   "execution_count": 13,
   "metadata": {},
   "outputs": [],
   "source": [
    "fnames = ['Dandelion.{}.jpg'.format(i) for i in range(720, 898)]\n",
    "for fname in fnames:\n",
    "    src = os.path.join(original_dataset_dir, fname)\n",
    "    dst = os.path.join(test_dandelion_dir, fname)\n",
    "    shutil.copyfile(src,dst)"
   ]
  },
  {
   "cell_type": "markdown",
   "metadata": {},
   "source": [
    "<b><b> Copy the first 386 images in train, next 128 for validation and next 128 for test for Rose flowers in flower_photos_small <b></b>"
   ]
  },
  {
   "cell_type": "code",
   "execution_count": 14,
   "metadata": {},
   "outputs": [],
   "source": [
    "fnames = ['Roses.{}.jpg'.format(i) for i in range(386)]\n",
    "for fname in fnames:\n",
    "    src = os.path.join(original_dataset_dir, fname)\n",
    "    dst = os.path.join(train_roses_dir, fname)\n",
    "    shutil.copyfile(src,dst)"
   ]
  },
  {
   "cell_type": "code",
   "execution_count": 15,
   "metadata": {},
   "outputs": [],
   "source": [
    "fnames = ['Roses.{}.jpg'.format(i) for i in range(386, 514)]\n",
    "for fname in fnames:\n",
    "    src = os.path.join(original_dataset_dir, fname)\n",
    "    dst = os.path.join(validation_roses_dir, fname)\n",
    "    shutil.copyfile(src,dst)"
   ]
  },
  {
   "cell_type": "code",
   "execution_count": 16,
   "metadata": {},
   "outputs": [],
   "source": [
    "fnames = ['Roses.{}.jpg'.format(i) for i in range(514, 641)]\n",
    "for fname in fnames:\n",
    "    src = os.path.join(original_dataset_dir, fname)\n",
    "    dst = os.path.join(test_roses_dir, fname)\n",
    "    shutil.copyfile(src,dst)"
   ]
  },
  {
   "cell_type": "markdown",
   "metadata": {},
   "source": [
    "<b><b> Copy the first 420 images in train, next 140 for validation and next 140 for test for Sunflower flowers in flower_photos_small <b></b>"
   ]
  },
  {
   "cell_type": "code",
   "execution_count": 17,
   "metadata": {},
   "outputs": [],
   "source": [
    "fnames = ['Sunflowers.{}.jpg'.format(i) for i in range(420)]\n",
    "for fname in fnames:\n",
    "    src = os.path.join(original_dataset_dir, fname)\n",
    "    dst = os.path.join(train_sunflowers_dir, fname)\n",
    "    shutil.copyfile(src,dst)"
   ]
  },
  {
   "cell_type": "code",
   "execution_count": 18,
   "metadata": {},
   "outputs": [],
   "source": [
    "fnames = ['Sunflowers.{}.jpg'.format(i) for i in range(420, 560)]\n",
    "for fname in fnames:\n",
    "    src = os.path.join(original_dataset_dir, fname)\n",
    "    dst = os.path.join(validation_sunflowers_dir, fname)\n",
    "    shutil.copyfile(src,dst)"
   ]
  },
  {
   "cell_type": "code",
   "execution_count": 19,
   "metadata": {},
   "outputs": [],
   "source": [
    "fnames = ['Sunflowers.{}.jpg'.format(i) for i in range(560, 699)]\n",
    "for fname in fnames:\n",
    "    src = os.path.join(original_dataset_dir, fname)\n",
    "    dst = os.path.join(test_sunflowers_dir, fname)\n",
    "    shutil.copyfile(src,dst)"
   ]
  },
  {
   "cell_type": "markdown",
   "metadata": {},
   "source": [
    "<b> Copy the first 480 images in train, next 160 for validation and next 160 for test for Tulips flowers in flower_photos_small <b>"
   ]
  },
  {
   "cell_type": "code",
   "execution_count": 20,
   "metadata": {},
   "outputs": [],
   "source": [
    "fnames = ['Tulips.{}.jpg'.format(i) for i in range(480)]\n",
    "for fname in fnames:\n",
    "    src = os.path.join(original_dataset_dir, fname)\n",
    "    dst = os.path.join(train_tulips_dir, fname)\n",
    "    shutil.copyfile(src,dst)"
   ]
  },
  {
   "cell_type": "code",
   "execution_count": 21,
   "metadata": {},
   "outputs": [],
   "source": [
    "fnames = ['Tulips.{}.jpg'.format(i) for i in range(480, 640)]\n",
    "for fname in fnames:\n",
    "    src = os.path.join(original_dataset_dir, fname)\n",
    "    dst = os.path.join(validation_tulips_dir, fname)\n",
    "    shutil.copyfile(src,dst)"
   ]
  },
  {
   "cell_type": "code",
   "execution_count": 22,
   "metadata": {},
   "outputs": [],
   "source": [
    "fnames = ['Tulips.{}.jpg'.format(i) for i in range(640, 799)]\n",
    "for fname in fnames:\n",
    "    src = os.path.join(original_dataset_dir, fname)\n",
    "    dst = os.path.join(test_tulips_dir, fname)\n",
    "    shutil.copyfile(src,dst)"
   ]
  },
  {
   "cell_type": "markdown",
   "metadata": {},
   "source": [
    "## Question 3(a): \n",
    "\n",
    "Use the procedure describe in Lecture 9 (pages 21-27), to feed this data into a ConvNet that classifies the images into the various flower types. You may start with the Convnet from Section 5.1 of Chollet (that I uploaded into Camino) for this exercise, and modify it as necessary."
   ]
  },
  {
   "cell_type": "markdown",
   "metadata": {},
   "source": [
    "## Build Convnet for Multi-class classification for flowers (Daisy, Dandelion, Roses, Sunflower & Tulips)"
   ]
  },
  {
   "cell_type": "markdown",
   "metadata": {},
   "source": [
    "<b>General structure for Convnet:</b> \n",
    "1. Stack of alternated Conv2D (with relu activation) and MaxPooling2D layers.\n",
    "2. <b>Choice of Regularization:</b> We add dropout regularization just before the densely connected classifier to avoid overfitting issues.\n",
    "3. <b>Choice of activation function for last layer:</b> Since this is a multi-class single label classification problem, we use Softmax as the activation function for the last layer. (Refer Pg 114, Table 4.1 Chollet for more information on choice of last layer activation functions)"
   ]
  },
  {
   "cell_type": "code",
   "execution_count": 10,
   "metadata": {},
   "outputs": [
    {
     "name": "stderr",
     "output_type": "stream",
     "text": [
      "Using TensorFlow backend.\n"
     ]
    }
   ],
   "source": [
    "import keras\n",
    "from keras import layers\n",
    "from keras import models"
   ]
  },
  {
   "cell_type": "code",
   "execution_count": 11,
   "metadata": {},
   "outputs": [
    {
     "data": {
      "text/plain": [
       "'2.3.1'"
      ]
     },
     "execution_count": 11,
     "metadata": {},
     "output_type": "execute_result"
    }
   ],
   "source": [
    "keras.__version__"
   ]
  },
  {
   "cell_type": "code",
   "execution_count": 12,
   "metadata": {},
   "outputs": [],
   "source": [
    "model = models.Sequential()\n",
    "model.add(layers.Conv2D(32,(3,3),activation = 'relu', input_shape = (150,150,3)))\n",
    "model.add(layers.MaxPooling2D((2,2)))\n",
    "model.add(layers.Conv2D(64,(3,3),activation = 'relu'))\n",
    "model.add(layers.MaxPooling2D((2,2)))\n",
    "model.add(layers.Conv2D(128,(3,3),activation = 'relu'))\n",
    "model.add(layers.MaxPooling2D((2,2)))\n",
    "model.add(layers.Conv2D(128,(3,3),activation = 'relu'))\n",
    "model.add(layers.MaxPooling2D((2,2)))\n",
    "model.add(layers.Flatten())\n",
    "model.add(layers.Dropout(0.5)) #Adding dropout regularization to avoid overfitting\n",
    "model.add(layers.Dense(512, activation = 'relu'))\n",
    "model.add(layers.Dense(5, activation='softmax'))"
   ]
  },
  {
   "cell_type": "code",
   "execution_count": 13,
   "metadata": {},
   "outputs": [
    {
     "name": "stdout",
     "output_type": "stream",
     "text": [
      "Model: \"sequential_1\"\n",
      "_________________________________________________________________\n",
      "Layer (type)                 Output Shape              Param #   \n",
      "=================================================================\n",
      "conv2d_1 (Conv2D)            (None, 148, 148, 32)      896       \n",
      "_________________________________________________________________\n",
      "max_pooling2d_1 (MaxPooling2 (None, 74, 74, 32)        0         \n",
      "_________________________________________________________________\n",
      "conv2d_2 (Conv2D)            (None, 72, 72, 64)        18496     \n",
      "_________________________________________________________________\n",
      "max_pooling2d_2 (MaxPooling2 (None, 36, 36, 64)        0         \n",
      "_________________________________________________________________\n",
      "conv2d_3 (Conv2D)            (None, 34, 34, 128)       73856     \n",
      "_________________________________________________________________\n",
      "max_pooling2d_3 (MaxPooling2 (None, 17, 17, 128)       0         \n",
      "_________________________________________________________________\n",
      "conv2d_4 (Conv2D)            (None, 15, 15, 128)       147584    \n",
      "_________________________________________________________________\n",
      "max_pooling2d_4 (MaxPooling2 (None, 7, 7, 128)         0         \n",
      "_________________________________________________________________\n",
      "flatten_1 (Flatten)          (None, 6272)              0         \n",
      "_________________________________________________________________\n",
      "dropout_1 (Dropout)          (None, 6272)              0         \n",
      "_________________________________________________________________\n",
      "dense_1 (Dense)              (None, 512)               3211776   \n",
      "_________________________________________________________________\n",
      "dense_2 (Dense)              (None, 5)                 2565      \n",
      "=================================================================\n",
      "Total params: 3,455,173\n",
      "Trainable params: 3,455,173\n",
      "Non-trainable params: 0\n",
      "_________________________________________________________________\n"
     ]
    }
   ],
   "source": [
    "model.summary()"
   ]
  },
  {
   "cell_type": "markdown",
   "metadata": {},
   "source": [
    "## Configure the model for training"
   ]
  },
  {
   "cell_type": "markdown",
   "metadata": {},
   "source": [
    "<b>Choice of loss function:</b> Since the goal of the model is to perform multi-class classification, we use a categorical crossentropy function. (Refer Pg 114, Table 4.1 in Chollet for more details on choice of loss function)"
   ]
  },
  {
   "cell_type": "code",
   "execution_count": 14,
   "metadata": {},
   "outputs": [],
   "source": [
    "from keras import optimizers"
   ]
  },
  {
   "cell_type": "code",
   "execution_count": 15,
   "metadata": {},
   "outputs": [],
   "source": [
    "model.compile(loss='categorical_crossentropy',\n",
    "             optimizer='adam',\n",
    "             metrics=['acc'])"
   ]
  },
  {
   "cell_type": "markdown",
   "metadata": {},
   "source": [
    "## Read images from directories using ImageDataGenerator"
   ]
  },
  {
   "cell_type": "markdown",
   "metadata": {},
   "source": [
    "<b>Implementing Data Augmentation for the following reasons</b>\n",
    "1. Generates more training data from existing training samples, by augmenting the samples via a number of random transformations that yield believable looking images. As a result, model will never see the exact same picture twice. It exposes the model to more aspects of the data and generalize better, avoiding the problem of Overfitting.\n",
    "\n",
    "2. Keras uses ImageDataGenerator to implement Data Augmentation.\n",
    "\n",
    "3. Data Augmentation can be done only on training data."
   ]
  },
  {
   "cell_type": "code",
   "execution_count": 16,
   "metadata": {},
   "outputs": [],
   "source": [
    "from keras.preprocessing.image import ImageDataGenerator"
   ]
  },
  {
   "cell_type": "code",
   "execution_count": 17,
   "metadata": {},
   "outputs": [
    {
     "name": "stdout",
     "output_type": "stream",
     "text": [
      "Found 148 images belonging to 5 classes.\n",
      "Found 76 images belonging to 5 classes.\n"
     ]
    }
   ],
   "source": [
    "#Adding Data Augmentation to train_datagen\n",
    "train_datagen = ImageDataGenerator(rescale=1./255,\n",
    "                                  rotation_range = 40,\n",
    "                                  width_shift_range = 0.2,\n",
    "                                  height_shift_range = 0.2,\n",
    "                                  shear_range = 0.2,\n",
    "                                  zoom_range = 0.2,\n",
    "                                  horizontal_flip = True)\n",
    "test_datagen = ImageDataGenerator(rescale=1./255)\n",
    "\n",
    "train_generator = train_datagen.flow_from_directory(train_dir,\n",
    "                                                   target_size = (150, 150),\n",
    "                                                   batch_size = 32,\n",
    "                                                   class_mode = 'categorical')\n",
    "\n",
    "validation_generator = test_datagen.flow_from_directory(validation_dir,\n",
    "                                                       target_size = (150, 150),\n",
    "                                                       batch_size = 32,\n",
    "                                                       class_mode = 'categorical')"
   ]
  },
  {
   "cell_type": "markdown",
   "metadata": {},
   "source": [
    "## Fit the model using batch generator"
   ]
  },
  {
   "cell_type": "code",
   "execution_count": 18,
   "metadata": {},
   "outputs": [
    {
     "name": "stdout",
     "output_type": "stream",
     "text": [
      "Epoch 1/10\n",
      "100/100 [==============================] - 84s 845ms/step - loss: 1.2447 - acc: 0.4483 - val_loss: 1.0856 - val_acc: 0.5648\n",
      "Epoch 2/10\n",
      "100/100 [==============================] - 79s 790ms/step - loss: 0.7576 - acc: 0.6909 - val_loss: 0.9974 - val_acc: 0.5397\n",
      "Epoch 3/10\n",
      "100/100 [==============================] - 78s 783ms/step - loss: 0.5510 - acc: 0.7709 - val_loss: 1.6444 - val_acc: 0.5762\n",
      "Epoch 4/10\n",
      "100/100 [==============================] - 79s 785ms/step - loss: 0.4167 - acc: 0.8253 - val_loss: 1.0923 - val_acc: 0.5773\n",
      "Epoch 5/10\n",
      "100/100 [==============================] - 77s 774ms/step - loss: 0.3204 - acc: 0.8736 - val_loss: 1.4532 - val_acc: 0.6333\n",
      "Epoch 6/10\n",
      "100/100 [==============================] - 78s 778ms/step - loss: 0.2694 - acc: 0.8993 - val_loss: 1.3415 - val_acc: 0.5762\n",
      "Epoch 7/10\n",
      "100/100 [==============================] - 79s 786ms/step - loss: 0.1622 - acc: 0.9385 - val_loss: 2.5082 - val_acc: 0.6445\n",
      "Epoch 8/10\n",
      "100/100 [==============================] - 79s 792ms/step - loss: 0.1617 - acc: 0.9399 - val_loss: 2.6904 - val_acc: 0.6183\n",
      "Epoch 9/10\n",
      "100/100 [==============================] - 78s 782ms/step - loss: 0.1056 - acc: 0.9672 - val_loss: 2.6685 - val_acc: 0.6190\n",
      "Epoch 10/10\n",
      "100/100 [==============================] - 78s 783ms/step - loss: 0.1149 - acc: 0.9605 - val_loss: 1.7691 - val_acc: 0.5797\n"
     ]
    }
   ],
   "source": [
    "history = model.fit_generator(train_generator,\n",
    "                             steps_per_epoch = 100,\n",
    "                             epochs = 10,\n",
    "                             validation_data = validation_generator,\n",
    "                             validation_steps = 50)"
   ]
  },
  {
   "cell_type": "markdown",
   "metadata": {},
   "source": [
    "# Save the model"
   ]
  },
  {
   "cell_type": "code",
   "execution_count": 19,
   "metadata": {},
   "outputs": [],
   "source": [
    "model.save('flowers_classification.h5')"
   ]
  },
  {
   "cell_type": "markdown",
   "metadata": {},
   "source": [
    "# Display curves of loss and accuracy during training"
   ]
  },
  {
   "cell_type": "code",
   "execution_count": 20,
   "metadata": {},
   "outputs": [],
   "source": [
    "import matplotlib.pyplot as plt"
   ]
  },
  {
   "cell_type": "code",
   "execution_count": 21,
   "metadata": {},
   "outputs": [
    {
     "data": {
      "image/png": "[encoded data removed]",
      "text/plain": [
       "<Figure size 432x288 with 1 Axes>"
      ]
     },
     "metadata": {
      "needs_background": "light"
     },
     "output_type": "display_data"
    },
    {
     "data": {
      "image/png": "[encoded data removed]",
      "text/plain": [
       "<Figure size 432x288 with 1 Axes>"
      ]
     },
     "metadata": {
      "needs_background": "light"
     },
     "output_type": "display_data"
    }
   ],
   "source": [
    "acc = history.history['acc']\n",
    "val_acc = history.history['val_acc']\n",
    "loss = history.history['loss']\n",
    "val_loss = history.history['val_loss']\n",
    "\n",
    "epochs = range(1, len(acc)+1)\n",
    "\n",
    "plt.plot(epochs, acc, 'bo', label='Training Accuracy')\n",
    "plt.plot(epochs, val_acc, 'b', label='Validation Accuracy')\n",
    "plt.title('Training and Validation Accuracy')\n",
    "plt.legend()\n",
    "\n",
    "plt.figure()\n",
    "\n",
    "plt.plot(epochs, loss, 'bo', label='Training Loss')\n",
    "plt.plot(epochs, val_loss, 'b', label='Validation Loss')\n",
    "plt.title('Training and Validation Loss')\n",
    "plt.legend()\n",
    "\n",
    "plt.show()"
   ]
  },
  {
   "cell_type": "code",
   "execution_count": 22,
   "metadata": {},
   "outputs": [
    {
     "name": "stdout",
     "output_type": "stream",
     "text": [
      "Found 76 images belonging to 5 classes.\n",
      "Test Accuracy: 0.526562511920929\n"
     ]
    }
   ],
   "source": [
    "test_generator = test_datagen.flow_from_directory(test_dir,\n",
    "                                                 target_size = (150,150),\n",
    "                                                 batch_size=32,\n",
    "                                                 class_mode = 'categorical')\n",
    "\n",
    "test_loss, test_acc = model.evaluate_generator(test_generator, steps = 50)\n",
    "print('Test Accuracy:', test_acc)"
   ]
  },
  {
   "cell_type": "markdown",
   "metadata": {},
   "source": [
    "## Question 3(b):\n",
    "Use Transfer Learning with the MobileNet model (available in Keras) to speed up the training process. Use Method 1 (see page 54 of Lecture 12) to do the Transfer Learning. Freeze all the layers in MobileNet, except for the last (logit) layer."
   ]
  },
  {
   "cell_type": "code",
   "execution_count": 23,
   "metadata": {},
   "outputs": [],
   "source": [
    "from keras.applications import MobileNet\n",
    "import numpy as np"
   ]
  },
  {
   "cell_type": "markdown",
   "metadata": {},
   "source": [
    "## Extracting features using pretrained convnet base"
   ]
  },
  {
   "cell_type": "code",
   "execution_count": 24,
   "metadata": {},
   "outputs": [
    {
     "name": "stderr",
     "output_type": "stream",
     "text": [
      "/Users/sabrinasok/anaconda3/lib/python3.7/site-packages/keras_applications/mobilenet.py:207: UserWarning: `input_shape` is undefined or non-square, or `rows` is not in [128, 160, 192, 224]. Weights for input shape (224, 224) will be loaded as the default.\n",
      "  warnings.warn('`input_shape` is undefined or non-square, '\n"
     ]
    },
    {
     "name": "stdout",
     "output_type": "stream",
     "text": [
      "Downloading data from https://github.com/fchollet/deep-learning-models/releases/download/v0.6/mobilenet_1_0_224_tf_no_top.h5\n",
      "17227776/17225924 [==============================] - 2s 0us/step\n"
     ]
    }
   ],
   "source": [
    "conv_base = MobileNet(weights = 'imagenet',\n",
    "                     include_top = False,\n",
    "                     input_shape = (150, 150, 3))"
   ]
  },
  {
   "cell_type": "markdown",
   "metadata": {},
   "source": [
    "## Freeze all layers except logit layer"
   ]
  },
  {
   "cell_type": "code",
   "execution_count": 25,
   "metadata": {},
   "outputs": [],
   "source": [
    "conv_base.trainable = False"
   ]
  },
  {
   "cell_type": "code",
   "execution_count": 26,
   "metadata": {},
   "outputs": [],
   "source": [
    "# conv_base.summary()"
   ]
  },
  {
   "cell_type": "code",
   "execution_count": 34,
   "metadata": {},
   "outputs": [],
   "source": [
    "datagen = ImageDataGenerator(rescale = 1./255)\n",
    "batch_size = 20\n",
    "\n",
    "def extract_features (directory, sample_count):\n",
    "    features = np.zeros(shape = (sample_count,4,4,1024))\n",
    "    labels = np.zeros(shape=(sample_count,5))\n",
    "    generator = datagen.flow_from_directory(directory,\n",
    "                                           target_size = (150, 150),\n",
    "                                           batch_size = batch_size,\n",
    "                                           class_mode = 'categorical')\n",
    "    i = 0\n",
    "    for inputs_batch, labels_batch in generator:\n",
    "        features_batch = conv_base.predict(inputs_batch)\n",
    "        print(features_batch.shape)\n",
    "        features[i* batch_size: (i+1) * batch_size] = features_batch\n",
    "        labels[i * batch_size: (i+1) * batch_size] = labels_batch\n",
    "        i += 1\n",
    "        if i * batch_size >= sample_count:\n",
    "            # Generators yield data indefinitely in a loop and hence we need to break after every image is seen once\n",
    "            break\n",
    "        return features, labels"
   ]
  },
  {
   "cell_type": "code",
   "execution_count": 35,
   "metadata": {},
   "outputs": [
    {
     "name": "stdout",
     "output_type": "stream",
     "text": [
      "Found 148 images belonging to 5 classes.\n",
      "(20, 4, 4, 1024)\n",
      "Found 76 images belonging to 5 classes.\n",
      "(20, 4, 4, 1024)\n",
      "Found 76 images belonging to 5 classes.\n",
      "(20, 4, 4, 1024)\n"
     ]
    }
   ],
   "source": [
    "train_features, train_labels = extract_features(train_dir, 2000)\n",
    "validation_features, validation_labels = extract_features(validation_dir, 1000)\n",
    "test_features, test_labels = extract_features(test_dir, 1000)"
   ]
  },
  {
   "cell_type": "markdown",
   "metadata": {},
   "source": [
    "## Reshape extracted features by flattening them prior to feeding into a densely connected classifier"
   ]
  },
  {
   "cell_type": "code",
   "execution_count": 37,
   "metadata": {},
   "outputs": [],
   "source": [
    "train_features = np.reshape(train_features, (2000,4*4*1024))\n",
    "validation_features = np.reshape(validation_features, (1000, 4*4*1024))\n",
    "test_features = np.reshape(test_features, (1000,4*4*1024))"
   ]
  },
  {
   "cell_type": "markdown",
   "metadata": {},
   "source": [
    "## Define densely connected classifier"
   ]
  },
  {
   "cell_type": "code",
   "execution_count": 74,
   "metadata": {},
   "outputs": [],
   "source": [
    "model_2 = models.Sequential()\n",
    "model_2.add(layers.Dense(256, activation = 'relu', input_dim = 4*4*1024))\n",
    "model_2.add(layers.Dropout(0.5))\n",
    "model_2.add(layers.Dense(5, activation = 'softmax'))"
   ]
  },
  {
   "cell_type": "code",
   "execution_count": 75,
   "metadata": {},
   "outputs": [
    {
     "data": {
      "text/plain": [
       "<keras.engine.sequential.Sequential at 0x6382e3ac8>"
      ]
     },
     "execution_count": 75,
     "metadata": {},
     "output_type": "execute_result"
    }
   ],
   "source": [
    "model_2"
   ]
  },
  {
   "cell_type": "markdown",
   "metadata": {},
   "source": [
    "## Configure model for training"
   ]
  },
  {
   "cell_type": "code",
   "execution_count": 76,
   "metadata": {},
   "outputs": [],
   "source": [
    "import tensorflow as tf"
   ]
  },
  {
   "cell_type": "code",
   "execution_count": 77,
   "metadata": {},
   "outputs": [],
   "source": [
    "model_2.compile(optimizer = 'adam',\n",
    "               loss = 'categorical_crossentropy',\n",
    "               metrics = ['acc'])"
   ]
  },
  {
   "cell_type": "markdown",
   "metadata": {},
   "source": [
    "## Fit the model"
   ]
  },
  {
   "cell_type": "code",
   "execution_count": 78,
   "metadata": {},
   "outputs": [
    {
     "data": {
      "text/plain": [
       "(1000, 16384)"
      ]
     },
     "execution_count": 78,
     "metadata": {},
     "output_type": "execute_result"
    }
   ],
   "source": [
    "validation_features.shape"
   ]
  },
  {
   "cell_type": "code",
   "execution_count": 81,
   "metadata": {},
   "outputs": [
    {
     "name": "stdout",
     "output_type": "stream",
     "text": [
      "Train on 2000 samples, validate on 1000 samples\n",
      "Epoch 1/10\n",
      "2000/2000 [==============================] - 4s 2ms/step - loss: 0.4230 - acc: 0.0240 - val_loss: 1.1434 - val_acc: 0.0050\n",
      "Epoch 2/10\n",
      "2000/2000 [==============================] - 4s 2ms/step - loss: 0.2973 - acc: 0.0050 - val_loss: 0.5167 - val_acc: 0.0090\n",
      "Epoch 3/10\n",
      "2000/2000 [==============================] - 3s 2ms/step - loss: 0.1740 - acc: 0.0070 - val_loss: 0.6366 - val_acc: 0.0080\n",
      "Epoch 4/10\n",
      "2000/2000 [==============================] - 3s 2ms/step - loss: 0.0963 - acc: 0.0070 - val_loss: 1.0332 - val_acc: 0.0080\n",
      "Epoch 5/10\n",
      "2000/2000 [==============================] - 3s 2ms/step - loss: 0.0226 - acc: 0.0180 - val_loss: 0.3776 - val_acc: 0.0110\n",
      "Epoch 6/10\n",
      "2000/2000 [==============================] - 3s 2ms/step - loss: 0.2042 - acc: 0.0320 - val_loss: 1.4547 - val_acc: 0.0040\n",
      "Epoch 7/10\n",
      "2000/2000 [==============================] - 3s 2ms/step - loss: 0.0692 - acc: 0.0585 - val_loss: 0.6305 - val_acc: 0.0090\n",
      "Epoch 8/10\n",
      "2000/2000 [==============================] - 3s 2ms/step - loss: 0.0877 - acc: 0.0735 - val_loss: 0.9129 - val_acc: 0.0090\n",
      "Epoch 9/10\n",
      "2000/2000 [==============================] - 3s 2ms/step - loss: 0.2080 - acc: 0.0875 - val_loss: 1.3342 - val_acc: 0.0100\n",
      "Epoch 10/10\n",
      "2000/2000 [==============================] - 3s 2ms/step - loss: 0.0851 - acc: 0.1005 - val_loss: 1.0902 - val_acc: 0.0090\n"
     ]
    }
   ],
   "source": [
    "history_2 = model_2.fit(train_features,\n",
    "                       train_labels,\n",
    "                       epochs = 10,\n",
    "                       batch_size = 20,\n",
    "                       validation_data = (validation_features, validation_labels))"
   ]
  },
  {
   "cell_type": "markdown",
   "metadata": {},
   "source": [
    "## Save the model"
   ]
  },
  {
   "cell_type": "code",
   "execution_count": 82,
   "metadata": {},
   "outputs": [],
   "source": [
    "model_2.save('flowers_classification_2.h5')"
   ]
  },
  {
   "cell_type": "markdown",
   "metadata": {},
   "source": [
    "## Display curves of loss and accuracy during training"
   ]
  },
  {
   "cell_type": "code",
   "execution_count": 85,
   "metadata": {},
   "outputs": [
    {
     "data": {
      "text/plain": [
       "[0.024, 0.005, 0.007, 0.007, 0.018, 0.032, 0.0585, 0.0735, 0.0875, 0.1005]"
      ]
     },
     "execution_count": 85,
     "metadata": {},
     "output_type": "execute_result"
    }
   ],
   "source": [
    "history_2.history['acc']"
   ]
  },
  {
   "cell_type": "code",
   "execution_count": 88,
   "metadata": {},
   "outputs": [
    {
     "data": {
      "image/png": "[encoded data removed]",
      "text/plain": [
       "<Figure size 432x288 with 1 Axes>"
      ]
     },
     "metadata": {
      "needs_background": "light"
     },
     "output_type": "display_data"
    },
    {
     "data": {
      "image/png": "[encoded data removed]",
      "text/plain": [
       "<Figure size 432x288 with 1 Axes>"
      ]
     },
     "metadata": {
      "needs_background": "light"
     },
     "output_type": "display_data"
    }
   ],
   "source": [
    "acc = history_2.history['acc']\n",
    "val_acc = history_2.history['val_acc']\n",
    "loss = history_2.history['loss']\n",
    "val_loss = history_2.history['val_loss']\n",
    "\n",
    "epochs = range(1, len(acc)+1)\n",
    "\n",
    "plt.plot(epochs, acc, 'b-o', label='Training Accuracy')\n",
    "plt.plot(epochs, val_acc, 'r', label='Validation Accuracy')\n",
    "plt.title('Training and Validation Accuracy')\n",
    "plt.legend()\n",
    "\n",
    "plt.figure()\n",
    "\n",
    "plt.plot(epochs, loss, 'b-o', label='Training Loss')\n",
    "plt.plot(epochs, val_loss, 'r', label='Validation Loss')\n",
    "plt.title('Training and Validation Loss')\n",
    "plt.legend()\n",
    "\n",
    "plt.show()"
   ]
  },
  {
   "cell_type": "code",
   "execution_count": null,
   "metadata": {},
   "outputs": [],
   "source": []
  }
 ],
 "metadata": {
  "kernelspec": {
   "display_name": "Python 3",
   "language": "python",
   "name": "python3"
  },
  "language_info": {
   "codemirror_mode": {
    "name": "ipython",
    "version": 3
   },
   "file_extension": ".py",
   "mimetype": "text/x-python",
   "name": "python",
   "nbconvert_exporter": "python",
   "pygments_lexer": "ipython3",
   "version": "3.6.8"
  }
 },
 "nbformat": 4,
 "nbformat_minor": 2
}
